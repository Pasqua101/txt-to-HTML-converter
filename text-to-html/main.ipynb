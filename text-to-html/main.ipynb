{
 "cells": [
  {
   "cell_type": "code",
   "execution_count": 2,
   "metadata": {},
   "outputs": [],
   "source": [
    "\n",
    "import os\n",
    "import re\n",
    "import sys"
   ]
  },
  {
   "cell_type": "code",
   "execution_count": 3,
   "metadata": {},
   "outputs": [],
   "source": [
    "\n",
    "def write_to_html(output_file, html_contents):\n",
    "    with open(output_file, \"w\") as html:\n",
    "        html.write(html_contents)"
   ]
  },
  {
   "cell_type": "code",
   "execution_count": 17,
   "metadata": {},
   "outputs": [],
   "source": [
    "def parse_md_inline_elements(html_contents):\n",
    "    html_contents = re.sub(\n",
    "        r\"\\[(.+?)\\]\\(([^ ]+)\\)\",  # Regex pattern to match .md link syntax and capture the text to display / the link\n",
    "        r\"<a href=\\2>\\1</a>\",  # Replace all .md links with <a> tags with help from backreferences\n",
    "        html_contents,\n",
    "    )\n",
    "\n",
    "    html_contents = re.sub(\n",
    "        r\"(`)(.*?)\\1\", r'<code class=\"inline-code\">\\2</code>', html_contents\n",
    "    )  # Regex to spot code tag in Markdown and convert it to code in HTML\n",
    "\n",
    "    html_contents = re.sub(\n",
    "        r\"(`{3})(.*?)\\1\", r'<code class=\"block-code\">\\2</code>', html_contents\n",
    "    )  # Regex to spot code tag in Markdown and convert it to code in HTML\n",
    "\n",
    "    html_contents = re.sub(\n",
    "        r\"---+\", r\"<hr>\", html_contents\n",
    "    )  # Regex to spot horizontal rule in Markdown and convert it to HTML\n",
    "\n",
    "    html_contents = re.sub(\n",
    "        r\"\\*\\*(.*?)\\*\\*\", r\"<strong>\\1</strong>\", html_contents\n",
    "    )  # Regex to spot bold in Markdown and convert the text inside it (group 1) to HTML\n",
    "    \n",
    "    html_contents = re.sub(\n",
    "        r\"\\*(.*?)\\*\", r\"<em>\\1</em>\", html_contents\n",
    "    )  # Regex to spot italic in Markdown and convert the text inside it (group 1) to HTML\n",
    "\n",
    "    return html_contents"
   ]
  },
  {
   "cell_type": "code",
   "execution_count": 7,
   "metadata": {},
   "outputs": [],
   "source": [
    "def base_html_template(html_contents:str)->str:\n",
    "    return f'''\n",
    "<html>\n",
    "<head>\n",
    "<title>md to html</title>\n",
    "</head>\n",
    "<body>{html_contents}</body>\n",
    "<html>\n",
    "'''"
   ]
  },
  {
   "cell_type": "code",
   "execution_count": 6,
   "metadata": {},
   "outputs": [
    {
     "data": {
      "text/plain": [
       "'<h6>this should be h3</h6>'"
      ]
     },
     "execution_count": 6,
     "metadata": {},
     "output_type": "execute_result"
    }
   ],
   "source": [
    "def change_to_heading(heading:str)-> str:\n",
    "    \"\"\"\n",
    "    it changes markdown headings to html headings\n",
    "    \"\"\"\n",
    "    init_len = len(heading)\n",
    "    heading = re.sub(r'^#+',\"\", heading)\n",
    "    final_len = len(heading)\n",
    "    heading_level = init_len - final_len if (init_len - final_len) <= 6 else 6\n",
    "    heading = heading.strip(\"\\n\")\n",
    "    return f\"<h{heading_level}>{heading.strip(' ')}</h{heading_level}>\"\n",
    "   \n",
    "    \n",
    "change_to_heading(\"########## this should be h3\")"
   ]
  },
  {
   "cell_type": "code",
   "execution_count": 32,
   "metadata": {},
   "outputs": [],
   "source": [
    "def get_code_block(html_content_lines:list[str,]):\n",
    "    print(html_content_lines)\n",
    "    html_content = \"\"\n",
    "    block_end = 0\n",
    "    for index, line in enumerate(html_content_lines):\n",
    "        if line != '```':\n",
    "            html_content += line\n",
    "        else:\n",
    "            block_end = index\n",
    "    return f'<code class=\"block-code\">{html_content}</code>', block_end        "
   ]
  },
  {
   "cell_type": "code",
   "execution_count": 30,
   "metadata": {},
   "outputs": [],
   "source": [
    "def md_to_html(input_file:str)->None:\n",
    "\n",
    "    with open(input_file) as file:\n",
    "        lines = file.readlines()\n",
    "\n",
    "    html_contents:str = \"\"\n",
    "\n",
    "    for index in range(len(lines)):\n",
    "        line = lines[index]\n",
    "        if line.startswith(\"#\"):\n",
    "            line = change_to_heading(line)\n",
    "        elif line.startswith(\"```\"):\n",
    "            line, skip_to = get_code_block(lines[index+1])\n",
    "            index = skip_to\n",
    "        html_contents += line\n",
    "    #     if (\n",
    "    #         not in_paragraph\n",
    "    #     ):  # if in_paragraph is set to False, create the beginning of the p tag in html_contents\n",
    "    #         # and set in_paragraph to true\n",
    "    #         html_contents += \"\\t\\t<p>\"\n",
    "    #         in_paragraph = True\n",
    "    #     if (\n",
    "    #         line == \"\\n\"\n",
    "    #     ):  # if the current line is a newline close the p tag and append it to then set in_paragraph to False\n",
    "    #         html_contents += \"</p>\\n\"\n",
    "    #         in_paragraph = False\n",
    "    #     else:  # if the code is still in a line with text and is in a paragraph append the line to html_contents\n",
    "    #         converted_line = line.replace(\"\\n\", \"\")\n",
    "    #         html_contents += f\" {converted_line}\"\n",
    "    # # Closing the last paragraph if the loop was still in the paragraph when finished\n",
    "    # if in_paragraph:\n",
    "    #     html_contents += \"</p>\\n\"\n",
    "\n",
    "    html_contents = parse_md_inline_elements(html_contents)\n",
    "\n",
    "    write_to_html(input_file.replace(\".md\", \".html\") ,base_html_template(html_contents))"
   ]
  },
  {
   "cell_type": "code",
   "execution_count": 18,
   "metadata": {},
   "outputs": [
    {
     "name": "stdout",
     "output_type": "stream",
     "text": [
      "\n",
      "\n",
      "title: \"YTdownloader\"\n",
      "description: \"youtube video downloader made by using python\"\n",
      "pubDate: \"Feb 11 2023\"\n",
      "\n",
      "\n",
      "{'title': 'YTdownloader', 'description': 'youtubevideodownloadermadebyusingpython', 'pubDate': 'Feb112023'}\n"
     ]
    }
   ],
   "source": [
    "\n",
    "\n",
    "\n",
    "\n",
    "def extractData(data: str):\n",
    "\t\n",
    "\tmatches = data.split(\"---\")\n",
    "\tif not matches:\n",
    "\t\treturn \"no frontmatter exit\", data\n",
    "\tfrontmatter = formatFrontMatter(matches[1])\n",
    "\tprint(frontmatter)\n",
    "\treturn frontmatter, matches[2]\n",
    "\n",
    "\n",
    "\n",
    "\n",
    "def formatFrontMatter(data: str):\n",
    "\tfrontMatter: dict = {}\n",
    "\tfrontMatterTextArray = data.split(\"\\n\")\n",
    "\tprint(data)\n",
    "\tfrontMatterTextArray = [seg for seg in frontMatterTextArray if seg]\n",
    "\tfor d in frontMatterTextArray:\n",
    "\t\tnewText = d.replace(\" \", \"\")\n",
    "\t\tnewTextArray = newText.split(\":\")\n",
    "\t\tfrontMatter[newTextArray[0]] = newTextArray[1].replace('\"', \"\")\n",
    "\t\t\n",
    "\treturn frontMatter\n",
    "\n",
    "\n",
    "\n",
    "\n",
    "def main(input_file):\n",
    "\tdata = \"\"\n",
    "\twith open(input_file, \"r\") as file:\n",
    "\t\tdata = file.read()\n",
    "\t\tfrontmatter, content = extractData(data)\n",
    "    \n",
    "main(\"main.md\")"
   ]
  }
 ],
 "metadata": {
  "kernelspec": {
   "display_name": "Python 3",
   "language": "python",
   "name": "python3"
  },
  "language_info": {
   "codemirror_mode": {
    "name": "ipython",
    "version": 3
   },
   "file_extension": ".py",
   "mimetype": "text/x-python",
   "name": "python",
   "nbconvert_exporter": "python",
   "pygments_lexer": "ipython3",
   "version": "3.11.1"
  },
  "orig_nbformat": 4
 },
 "nbformat": 4,
 "nbformat_minor": 2
}
