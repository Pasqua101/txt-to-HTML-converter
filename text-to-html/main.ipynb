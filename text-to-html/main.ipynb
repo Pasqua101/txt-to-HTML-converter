{
 "cells": [
  {
   "cell_type": "code",
   "execution_count": 4,
   "metadata": {},
   "outputs": [],
   "source": [
    "\n",
    "import os\n",
    "import re\n",
    "import sys\n"
   ]
  },
  {
   "cell_type": "code",
   "execution_count": 5,
   "metadata": {},
   "outputs": [],
   "source": [
    "def parse_md_inline_elements(html_contents):\n",
    "    html_contents = re.sub(\n",
    "        r\"\\[(.+?)\\]\\(([^ ]+)\\)\",  # Regex pattern to match .md link syntax and capture the text to display / the link\n",
    "        r\"<a href=\\2>\\1</a>\",  # Replace all .md links with <a> tags with help from backreferences\n",
    "        html_contents,\n",
    "    )\n",
    "\n",
    "    html_contents = re.sub(\n",
    "        r\"(`{1,3})(.*?)\\1\", r\"<code>\\2</code>\", html_contents\n",
    "    )  # Regex to spot code tag in Markdown and convert it to code in HTML\n",
    "\n",
    "    html_contents = re.sub(\n",
    "        r\"---+\", r\"<hr>\", html_contents\n",
    "    )  # Regex to spot horizontal rule in Markdown and convert it to HTML\n",
    "\n",
    "    html_contents = re.sub(\n",
    "        r\"\\*\\*(.*?)\\*\\*\", r\"<strong>\\1</strong>\", html_contents\n",
    "    )  # Regex to spot bold in Markdown and convert the text inside it (group 1) to HTML\n",
    "    \n",
    "    html_contents = re.sub(\n",
    "        r\"\\*(.*?)\\*\", r\"<em>\\1</em>\", html_contents\n",
    "    )  # Regex to spot italic in Markdown and convert the text inside it (group 1) to HTML\n",
    "\n",
    "    return html_contents"
   ]
  },
  {
   "cell_type": "code",
   "execution_count": 11,
   "metadata": {},
   "outputs": [],
   "source": [
    "def base_html_template(html_contents:str)->str:\n",
    "    return f'''\n",
    "<html>\n",
    "<head>\n",
    "<title>md to html</title>\n",
    "</head>\n",
    "<body>{html_contents}</body>\n",
    "<html>\n",
    "'''"
   ]
  },
  {
   "cell_type": "code",
   "execution_count": 36,
   "metadata": {},
   "outputs": [
    {
     "data": {
      "text/plain": [
       "'<h6>this should be h3</h6>'"
      ]
     },
     "execution_count": 36,
     "metadata": {},
     "output_type": "execute_result"
    }
   ],
   "source": [
    "def change_to_heading(heading:str)-> str:\n",
    "    \"\"\"\n",
    "    it changes markdown headings to html headings\n",
    "    \"\"\"\n",
    "    init_len = len(heading)\n",
    "    heading = re.sub(r'^#+',\"\", heading)\n",
    "    final_len = len(heading)\n",
    "    heading_level = init_len - final_len if (init_len - final_len) <= 6 else 6\n",
    "    heading = heading.strip(\"\\n\")\n",
    "    return f\"<h{heading_level}>{heading.strip(' ')}</h{heading_level}>\"\n",
    "   \n",
    "    \n",
    "change_to_heading(\"########## this should be h3\")"
   ]
  },
  {
   "cell_type": "code",
   "execution_count": 41,
   "metadata": {},
   "outputs": [],
   "source": [
    "def md_to_html(input_file):\n",
    "\n",
    "    with open(input_file) as file:\n",
    "        lines = file.readlines()\n",
    "\n",
    "    html_contents:str = \"\"\n",
    "\n",
    "    for line in lines:\n",
    "        if line.startswith(\"#\"):\n",
    "            line = change_to_heading(line)\n",
    "        html_contents += line\n",
    "    #     if (\n",
    "    #         not in_paragraph\n",
    "    #     ):  # if in_paragraph is set to False, create the beginning of the p tag in html_contents\n",
    "    #         # and set in_paragraph to true\n",
    "    #         html_contents += \"\\t\\t<p>\"\n",
    "    #         in_paragraph = True\n",
    "    #     if (\n",
    "    #         line == \"\\n\"\n",
    "    #     ):  # if the current line is a newline close the p tag and append it to then set in_paragraph to False\n",
    "    #         html_contents += \"</p>\\n\"\n",
    "    #         in_paragraph = False\n",
    "    #     else:  # if the code is still in a line with text and is in a paragraph append the line to html_contents\n",
    "    #         converted_line = line.replace(\"\\n\", \"\")\n",
    "    #         html_contents += f\" {converted_line}\"\n",
    "    # # Closing the last paragraph if the loop was still in the paragraph when finished\n",
    "    # if in_paragraph:\n",
    "    #     html_contents += \"</p>\\n\"\n",
    "\n",
    "    html_contents = parse_md_inline_elements(html_contents)\n",
    "\n",
    "    return html_contents"
   ]
  },
  {
   "cell_type": "code",
   "execution_count": null,
   "metadata": {},
   "outputs": [],
   "source": []
  },
  {
   "cell_type": "code",
   "execution_count": 42,
   "metadata": {},
   "outputs": [
    {
     "data": {
      "text/plain": [
       "'<h2>About this :</h2>\\nYTdownloader is a python tkinter application which can help you to download any youtube video as a video or audio. In this post we will discuss how to create it.\\n\\n> <strong>Assuming that you know the basics of tkinter, I am not going into the detail of tkinter. If you don\\'t you can add this post to your reading list and go read some tkinter documentation.</strong>\\n\\n<h2>Required modules :</h2>\\nTo make this application I am going to use to mainly 2 modules - tkinter and pytube. I also use tkinter\\'s filedialog and messagebox module.\\n\\nIn case of <strong>tkinter</strong>, it will come with the python installer. So no need to install it separately but <strong>pytube</strong> does not come with the python so we need to install it.\\n\\nType <code>pip install pytube</code> in your terminal to then <code>enter</code> to install pytube.\\n\\nOnce to pytube is installed we have to import it into our python file ( in my case its main.py ).\\n\\n<code></code>`python\\n\\nfrom tkinter import *\\nfrom tkinter.filedialog import askdirectory\\nfrom tkinter.messagebox import showerror, showinfo\\nfrom pytube import YouTube\\n\\n\\n<code></code>`\\n\\nInitially I don\\'t know how many thing do I need from the tkinter so I import everything from it using \\\\*.\\n\\n<h2>Initializing tkinter :</h2>\\nAfter importing the modules let initialize the tkinter and create a gui window. Then give it a name and dimensions i.e. size of the gui window and an icon. We will do all this in few steps -\\n\\n- Firstly create an instance of tkinter Tk() and store it in a variable named \\'root\\', like this <code>root = Tk()</code>. Since I am importing everything from the tkinter I can write <strong>Tk()</strong> instead of <strong>tkinter.Tk()</strong>.\\n\\n- Now give it a size using <code>root.geometry()</code>. I am going to give it a fixed size of 350px width and 250px height. So I am also going to do this <code>root.resizable(0, 0)</code> so that it can\\'t be resizeable.\\n\\n- Then giving it a name using <code>root.title()</code>. For this app, I am naming it <strong>YTdownloader</strong>.\\n\\n- I also download an icon of \\'.ico\\' extension from the web and add that to this app using <code>root.iconbitmap(\"./icon.ico\")</code>\\n\\n- Now give this app a background color by writing <code>root.configure(bg=bgColor)</code>. I already store the color code in a variable to use it multiple times.\\n\\n- At last <code>root.mainloop()</code> at the very bottom of the file.\\n\\nOur application should look something like this.\\n\\n!<a href=https://dev-to-uploads.s3.amazonaws.com/uploads/articles/d64toocvre4gynlyjk16.png>look of applocation after the initialinzing procss</a>\\n\\n<h2>Widget implementation :</h2>\\nLet add some widget like labels, button, entry widget to make this interactive.\\n\\n- Adding a label at the very top just as a heading and pack it to the root.\\n\\n<code></code>`py\\n\\nLabel(root, text=\"Youtube Downloader\",\\n   bg=bgColor,font=\"sarif 15 bold\").pack(pady=7)\\n\\n\\n<code></code>`\\n\\nI am also using the same background as the root to remove the it white background.\\n\\n- Now add a frame where I am going to place the entry widget and optionmenu.\\n\\n<code></code>`python\\n\\nframe = Frame(root, padx=10, pady=20,\\n        bg=bgColor, height=150)\\nframe.pack(fill=\"both\")\\n\\n\\n<code></code>`\\n\\nIn this app I am add a entry and to optionmenu widget. The entry widget is for the url input and one optionmenu widget for type download type \\'video\\' or \\'audio\\' and another is for the resolution or quality of the video in case of video download. I also create three tkinter variable to store their data.\\n\\n- Creating the entry widget and placing it and storing it value to <strong>link</strong> variable.\\n\\n<code></code>`python\\n\\nlink = StringVar()\\nEntry(frame, textvariable=link).place(in_=frame, anchor=\"c\",\\n      relx=.5, rely=0.0, relheight=0.3, relwidth=0.9)\\n\\n\\n<code></code>`\\n\\n- Creating the both optionmenu and storing it value to two variable. I also set a default value to both variables. I also add a label on top of each optionmenu to denote which one is for what. You can skip this.\\n\\n<code></code>`python\\n\\nLabel(text=\"filetype\", bg=bgColor).place(\\n    in_=frame, anchor=\"c\", relx=.25, rely=.325)\\nfileType = StringVar()\\nfileType.set(\"video\")\\nOptionMenu(frame, fileType, *[\"video\", \"audio\"]\\n           ).place(in_=frame, anchor=\"c\", relx=.25, rely=.575)\\n\\nLabel(text=\"resolution\", bg=bgColor).place(\\n    in_=frame, anchor=\"c\", relx=.75, rely=.325)\\n\\nres = StringVar()\\nresList = [\"144p\", \"240p\", \"360p\", \"480p\", \"720p\", \"1080p\"]\\nres.set(resList[2])\\nOptionMenu(frame, res, *resList\\n           ).place(in_=frame, anchor=\"c\", relx=.75, rely=.575)\\n\\n\\n<code></code>`\\n\\n- Add a button to start the download process. I add command to a function named \\'download\\' where I will write all its logics. If you don\\'t know what does this command attribute do - it run the provide function every time the button is clicked.\\n\\n<code></code>`python\\n\\nButton(root, command=download, text=\"download\").place(\\n    in_=frame, anchor=\"c\", relx=.5, rely=.9, relheight=0.3)\\n\\n\\n<code></code>`\\n\\nYou have define the \\'download\\' function before the button widget otherwise you will get an error.\\n\\nNow our application is looking something like this\\n\\n!<a href=https://dev-to-uploads.s3.amazonaws.com/uploads/articles/1k54uutksw00wcj46oph.png>gui after all widgets are added</a>\\n\\n<h2>Logic behind the download :</h2>\\n> Firstly I will say, \"I did not knew that there is python module called <strong>pytube</strong> which can download youtube videos\". I read a post about this youtube video download using python by one of our <strong>dev.to</strong> friend and use his code after doing some modification on it. If you want to know more about this I suggest you to read his post. The link of his post is given at the bottom.\\n\\n- Instead of fixing the download location, I give the user a option to select the folder every time when the <strong>download</strong> button is clicked using tkinter\\'s <strong>askdirectory</strong> widget. It will return the path of selected folder which I stored in the path variable.\\n\\n<code></code>`python\\n\\n    path = askdirectory(title=\\'Select Folder\\')\\n\\n\\n<code></code>`\\n\\n- After getting the path I store url, file type and resolution of the video in 3 different variables.\\n\\n<code></code>`python\\n\\n    videoLink = link.get()\\n    downloadType = fileType.get()\\n    resolution = res.get()\\n\\n\\n<code></code>`\\n\\n- At last seting up the <strong>YouTube</strong> class. Wrap up this section in a <strong>try</strong> block so that error can be handled easily. And I use <strong>if...else</strong> to handle audio or video download.\\n\\n<code></code>`python\\n\\n    video = YouTube(videoLink)\\n\\n    try:\\n        if downloadType == \"audio\":\\n            file = video.streams.filter(only_audio=True).first()\\n        else:\\n            file = video.streams.filter(resolution=resolution).first()\\n\\n        file.download(path)\\n\\n    except:\\n        showerror(\"error\", \"Unable to download video at this time!\")\\n    else:\\n        showinfo(\"download complete\", f\"{format} downloaded!\")\\n\\n\\n<code></code>`\\n\\nAs you can see in the code above, if there is any problem to download the video it will go to the <strong>except</strong> block where an error pop up message will be shown using the <strong>showerror</strong> widget of tkinter.\\n\\n<h2>Wrap up :</h2>\\nYou can get the code at my github following this <a href=https://github.com/dshaw0004/youtube-video-downloader>link</a>.\\n\\nHere the link of the post by \\'Shittu Olumide\\' whose code I use.\\n<a href=https://dev.to/shittu_olumide_/how-to-download-youtube-music-and-videos-with-python-37k5>click here</a>\\n\\ntitle: \"YTdownloader\"\\ndescription: \"youtube video downloader made by using python\"\\npubDate: \"Feb 11 2023\"'"
      ]
     },
     "execution_count": 42,
     "metadata": {},
     "output_type": "execute_result"
    }
   ],
   "source": [
    "data = md_to_html(\"ytdownloader.md\")\n",
    "data"
   ]
  },
  {
   "cell_type": "code",
   "execution_count": 12,
   "metadata": {},
   "outputs": [
    {
     "data": {
      "text/plain": [
       "'\\n<html>\\n<head>\\n<title>md to html</title>\\n</head>\\n<body>## About this :\\n\\nYTdownloader is a python tkinter application which can help you to download any youtube video as a video or audio. In this post we will discuss how to create it.\\n\\n> <strong>Assuming that you know the basics of tkinter, I am not going into the detail of tkinter. If you don\\'t you can add this post to your reading list and go read some tkinter documentation.</strong>\\n\\n## Required modules :\\n\\nTo make this application I am going to use to mainly 2 modules - tkinter and pytube. I also use tkinter\\'s filedialog and messagebox module.\\n\\nIn case of <strong>tkinter</strong>, it will come with the python installer. So no need to install it separately but <strong>pytube</strong> does not come with the python so we need to install it.\\n\\nType <code>pip install pytube</code> in your terminal to then <code>enter</code> to install pytube.\\n\\nOnce to pytube is installed we have to import it into our python file ( in my case its main.py ).\\n\\n<code></code>`python\\n\\nfrom tkinter import *\\nfrom tkinter.filedialog import askdirectory\\nfrom tkinter.messagebox import showerror, showinfo\\nfrom pytube import YouTube\\n\\n\\n<code></code>`\\n\\nInitially I don\\'t know how many thing do I need from the tkinter so I import everything from it using \\\\*.\\n\\n## Initializing tkinter :\\n\\nAfter importing the modules let initialize the tkinter and create a gui window. Then give it a name and dimensions i.e. size of the gui window and an icon. We will do all this in few steps -\\n\\n- Firstly create an instance of tkinter Tk() and store it in a variable named \\'root\\', like this <code>root = Tk()</code>. Since I am importing everything from the tkinter I can write <strong>Tk()</strong> instead of <strong>tkinter.Tk()</strong>.\\n\\n- Now give it a size using <code>root.geometry()</code>. I am going to give it a fixed size of 350px width and 250px height. So I am also going to do this <code>root.resizable(0, 0)</code> so that it can\\'t be resizeable.\\n\\n- Then giving it a name using <code>root.title()</code>. For this app, I am naming it <strong>YTdownloader</strong>.\\n\\n- I also download an icon of \\'.ico\\' extension from the web and add that to this app using <code>root.iconbitmap(\"./icon.ico\")</code>\\n\\n- Now give this app a background color by writing <code>root.configure(bg=bgColor)</code>. I already store the color code in a variable to use it multiple times.\\n\\n- At last <code>root.mainloop()</code> at the very bottom of the file.\\n\\nOur application should look something like this.\\n\\n!<a href=https://dev-to-uploads.s3.amazonaws.com/uploads/articles/d64toocvre4gynlyjk16.png>look of applocation after the initialinzing procss</a>\\n\\n## Widget implementation :\\n\\nLet add some widget like labels, button, entry widget to make this interactive.\\n\\n- Adding a label at the very top just as a heading and pack it to the root.\\n\\n<code></code>`py\\n\\nLabel(root, text=\"Youtube Downloader\",\\n   bg=bgColor,font=\"sarif 15 bold\").pack(pady=7)\\n\\n\\n<code></code>`\\n\\nI am also using the same background as the root to remove the it white background.\\n\\n- Now add a frame where I am going to place the entry widget and optionmenu.\\n\\n<code></code>`python\\n\\nframe = Frame(root, padx=10, pady=20,\\n        bg=bgColor, height=150)\\nframe.pack(fill=\"both\")\\n\\n\\n<code></code>`\\n\\nIn this app I am add a entry and to optionmenu widget. The entry widget is for the url input and one optionmenu widget for type download type \\'video\\' or \\'audio\\' and another is for the resolution or quality of the video in case of video download. I also create three tkinter variable to store their data.\\n\\n- Creating the entry widget and placing it and storing it value to <strong>link</strong> variable.\\n\\n<code></code>`python\\n\\nlink = StringVar()\\nEntry(frame, textvariable=link).place(in_=frame, anchor=\"c\",\\n      relx=.5, rely=0.0, relheight=0.3, relwidth=0.9)\\n\\n\\n<code></code>`\\n\\n- Creating the both optionmenu and storing it value to two variable. I also set a default value to both variables. I also add a label on top of each optionmenu to denote which one is for what. You can skip this.\\n\\n<code></code>`python\\n\\nLabel(text=\"filetype\", bg=bgColor).place(\\n    in_=frame, anchor=\"c\", relx=.25, rely=.325)\\nfileType = StringVar()\\nfileType.set(\"video\")\\nOptionMenu(frame, fileType, *[\"video\", \"audio\"]\\n           ).place(in_=frame, anchor=\"c\", relx=.25, rely=.575)\\n\\nLabel(text=\"resolution\", bg=bgColor).place(\\n    in_=frame, anchor=\"c\", relx=.75, rely=.325)\\n\\nres = StringVar()\\nresList = [\"144p\", \"240p\", \"360p\", \"480p\", \"720p\", \"1080p\"]\\nres.set(resList[2])\\nOptionMenu(frame, res, *resList\\n           ).place(in_=frame, anchor=\"c\", relx=.75, rely=.575)\\n\\n\\n<code></code>`\\n\\n- Add a button to start the download process. I add command to a function named \\'download\\' where I will write all its logics. If you don\\'t know what does this command attribute do - it run the provide function every time the button is clicked.\\n\\n<code></code>`python\\n\\nButton(root, command=download, text=\"download\").place(\\n    in_=frame, anchor=\"c\", relx=.5, rely=.9, relheight=0.3)\\n\\n\\n<code></code>`\\n\\nYou have define the \\'download\\' function before the button widget otherwise you will get an error.\\n\\nNow our application is looking something like this\\n\\n!<a href=https://dev-to-uploads.s3.amazonaws.com/uploads/articles/1k54uutksw00wcj46oph.png>gui after all widgets are added</a>\\n\\n## Logic behind the download :\\n\\n> Firstly I will say, \"I did not knew that there is python module called <strong>pytube</strong> which can download youtube videos\". I read a post about this youtube video download using python by one of our <strong>dev.to</strong> friend and use his code after doing some modification on it. If you want to know more about this I suggest you to read his post. The link of his post is given at the bottom.\\n\\n- Instead of fixing the download location, I give the user a option to select the folder every time when the <strong>download</strong> button is clicked using tkinter\\'s <strong>askdirectory</strong> widget. It will return the path of selected folder which I stored in the path variable.\\n\\n<code></code>`python\\n\\n    path = askdirectory(title=\\'Select Folder\\')\\n\\n\\n<code></code>`\\n\\n- After getting the path I store url, file type and resolution of the video in 3 different variables.\\n\\n<code></code>`python\\n\\n    videoLink = link.get()\\n    downloadType = fileType.get()\\n    resolution = res.get()\\n\\n\\n<code></code>`\\n\\n- At last seting up the <strong>YouTube</strong> class. Wrap up this section in a <strong>try</strong> block so that error can be handled easily. And I use <strong>if...else</strong> to handle audio or video download.\\n\\n<code></code>`python\\n\\n    video = YouTube(videoLink)\\n\\n    try:\\n        if downloadType == \"audio\":\\n            file = video.streams.filter(only_audio=True).first()\\n        else:\\n            file = video.streams.filter(resolution=resolution).first()\\n\\n        file.download(path)\\n\\n    except:\\n        showerror(\"error\", \"Unable to download video at this time!\")\\n    else:\\n        showinfo(\"download complete\", f\"{format} downloaded!\")\\n\\n\\n<code></code>`\\n\\nAs you can see in the code above, if there is any problem to download the video it will go to the <strong>except</strong> block where an error pop up message will be shown using the <strong>showerror</strong> widget of tkinter.\\n\\n## Wrap up :\\n\\nYou can get the code at my github following this <a href=https://github.com/dshaw0004/youtube-video-downloader>link</a>.\\n\\nHere the link of the post by \\'Shittu Olumide\\' whose code I use.\\n<a href=https://dev.to/shittu_olumide_/how-to-download-youtube-music-and-videos-with-python-37k5>click here</a>\\n\\ntitle: \"YTdownloader\"\\ndescription: \"youtube video downloader made by using python\"\\npubDate: \"Feb 11 2023\"</body>\\n<html>\\n'"
      ]
     },
     "execution_count": 12,
     "metadata": {},
     "output_type": "execute_result"
    }
   ],
   "source": [
    "base_html_template(data)"
   ]
  }
 ],
 "metadata": {
  "kernelspec": {
   "display_name": "Python 3",
   "language": "python",
   "name": "python3"
  },
  "language_info": {
   "codemirror_mode": {
    "name": "ipython",
    "version": 3
   },
   "file_extension": ".py",
   "mimetype": "text/x-python",
   "name": "python",
   "nbconvert_exporter": "python",
   "pygments_lexer": "ipython3",
   "version": "3.11.1"
  },
  "orig_nbformat": 4
 },
 "nbformat": 4,
 "nbformat_minor": 2
}
